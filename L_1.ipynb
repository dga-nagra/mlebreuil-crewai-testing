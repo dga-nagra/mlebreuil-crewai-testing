{
 "cells": [
  {
   "cell_type": "markdown",
   "id": "bae53a09-c04c-4916-a146-00e0bb188954",
   "metadata": {},
   "source": [
    "# L1: Automated Project: Planning, Estimation, and Allocation"
   ]
  },
  {
   "cell_type": "markdown",
   "id": "2a4058e8-a52c-4365-ac27-da08b67d7fb8",
   "metadata": {},
   "source": [
    "This notebook initial imports will load environment variable fro the .env file located at the root.  \n",
    "Specifically, it will load model api keys.\n",
    "Here we use a local model. No API KEY required"
   ]
  },
  {
   "cell_type": "markdown",
   "id": "30ada5b1-06ec-41e8-8f60-5e0e0d389ffb",
   "metadata": {},
   "source": [
    "## Initial Imports"
   ]
  },
  {
   "cell_type": "code",
   "execution_count": 5,
   "id": "4193708e-9802-4161-844a-735f6361e24d",
   "metadata": {
    "height": 199
   },
   "outputs": [],
   "source": [
    "# Warning control\n",
    "import warnings\n",
    "warnings.filterwarnings('ignore')\n",
    "\n",
    "# Load environment variables\n",
    "# from helper import load_env\n",
    "# load_env()\n",
    "\n",
    "import os\n",
    "import yaml\n",
    "from crewai import Agent, Task, Crew, LLM"
   ]
  },
  {
   "cell_type": "markdown",
   "id": "90e4e50f",
   "metadata": {},
   "source": [
    "In our case we use a [local model](https://docs.crewai.com/how-to/llm-connections).  \n",
    "Download [Ollama](https://ollama.com/download).  \n",
    "Pull the [desired model](https://github.com/ollama/ollama?tab=readme-ov-file) :\n",
    "\n",
    "```bash\n",
    "ollama pull llama3.2\n",
    "```\n",
    "configure the agent:  \n",
    "\n",
    "```python\n",
    "    agent = Agent(\n",
    "        role='Local AI Expert',\n",
    "        goal='Process information using a local model',\n",
    "        backstory=\"An AI assistant running on local hardware.\",\n",
    "        llm=LLM(model=\"ollama/llama3.2\", base_url=\"http://localhost:11434\")\n",
    "    )\n",
    "```"
   ]
  },
  {
   "cell_type": "markdown",
   "id": "b930b575-a2d5-467b-878f-de78e10b6ba5",
   "metadata": {},
   "source": [
    "## Set OpenAI Model"
   ]
  },
  {
   "cell_type": "code",
   "execution_count": null,
   "id": "91cb8100-3058-4cdc-969b-c64a46a408e4",
   "metadata": {
    "height": 29
   },
   "outputs": [],
   "source": [
    "# os.environ['OPENAI_MODEL_NAME'] = 'gpt-4o-mini'"
   ]
  },
  {
   "cell_type": "markdown",
   "id": "96b83836-9ccb-47d7-a97b-9a68aebfaa42",
   "metadata": {},
   "source": [
    "## Loading Tasks and Agents YAML files"
   ]
  },
  {
   "cell_type": "code",
   "execution_count": 6,
   "id": "5a4e362d-c010-43dd-88c4-e7db87834fb4",
   "metadata": {
    "height": 283
   },
   "outputs": [],
   "source": [
    "# Define file paths for YAML configurations\n",
    "files = {\n",
    "    'agents': 'config/agents.yaml',\n",
    "    'tasks': 'config/tasks.yaml'\n",
    "}\n",
    "\n",
    "# Load configurations from YAML files\n",
    "configs = {}\n",
    "for config_type, file_path in files.items():\n",
    "    with open(file_path, 'r') as file:\n",
    "        configs[config_type] = yaml.safe_load(file)\n",
    "\n",
    "# Assign loaded configurations to specific variables\n",
    "agents_config = configs['agents']\n",
    "tasks_config = configs['tasks']"
   ]
  },
  {
   "cell_type": "markdown",
   "id": "c5f50c89-a326-4e4c-93a1-79be3fcda14b",
   "metadata": {},
   "source": [
    "## Create Pydantic Models for Structured Output"
   ]
  },
  {
   "cell_type": "code",
   "execution_count": 7,
   "id": "0e8626d2-e48a-4b7e-a061-a8eb492c9036",
   "metadata": {
    "height": 283
   },
   "outputs": [],
   "source": [
    "from typing import List\n",
    "from pydantic import BaseModel, Field\n",
    "\n",
    "class TaskEstimate(BaseModel):\n",
    "    task_name: str = Field(..., description=\"Name of the task\")\n",
    "    estimated_time_hours: float = Field(..., description=\"Estimated time to complete the task in hours\")\n",
    "    required_resources: List[str] = Field(..., description=\"List of resources required to complete the task\")\n",
    "\n",
    "class Milestone(BaseModel):\n",
    "    milestone_name: str = Field(..., description=\"Name of the milestone\")\n",
    "    tasks: List[str] = Field(..., description=\"List of task IDs associated with this milestone\")\n",
    "\n",
    "class ProjectPlan(BaseModel):\n",
    "    tasks: List[TaskEstimate] = Field(..., description=\"List of tasks with their estimates\")\n",
    "    milestones: List[Milestone] = Field(..., description=\"List of project milestones\")"
   ]
  },
  {
   "cell_type": "markdown",
   "id": "92d6524c-48e7-460e-8345-3b7a872b714a",
   "metadata": {},
   "source": [
    "## Create Crew, Agents and Tasks"
   ]
  },
  {
   "cell_type": "code",
   "execution_count": 8,
   "id": "a655927f-c10c-4c06-852a-d9c96fdfbfb9",
   "metadata": {
    "height": 776
   },
   "outputs": [
    {
     "name": "stderr",
     "output_type": "stream",
     "text": [
      "WARNING:opentelemetry.trace:Overriding of current TracerProvider is not allowed\n"
     ]
    }
   ],
   "source": [
    "# Creating Agents\n",
    "project_planning_agent = Agent(\n",
    "  config=agents_config['project_planning_agent'],\n",
    "  llm=LLM(model=\"ollama/llama3.2\", base_url=\"http://localhost:11434\")\n",
    ")\n",
    "\n",
    "estimation_agent = Agent(\n",
    "  config=agents_config['estimation_agent'],\n",
    "  llm=LLM(model=\"ollama/llama3.2\", base_url=\"http://localhost:11434\")\n",
    ")\n",
    "\n",
    "resource_allocation_agent = Agent(\n",
    "  config=agents_config['resource_allocation_agent'],\n",
    "  llm=LLM(model=\"ollama/llama3.2\", base_url=\"http://localhost:11434\")\n",
    ")\n",
    "\n",
    "# Creating Tasks\n",
    "task_breakdown = Task(\n",
    "  config=tasks_config['task_breakdown'],\n",
    "  agent=project_planning_agent,\n",
    ")\n",
    "\n",
    "time_resource_estimation = Task(\n",
    "  config=tasks_config['time_resource_estimation'],\n",
    "  agent=estimation_agent\n",
    ")\n",
    "\n",
    "resource_allocation = Task(\n",
    "  config=tasks_config['resource_allocation'],\n",
    "  agent=resource_allocation_agent,\n",
    "  output_pydantic=ProjectPlan # This is the structured output we want\n",
    ")\n",
    "\n",
    "# Creating Crew\n",
    "crew = Crew(\n",
    "  agents=[\n",
    "    project_planning_agent,\n",
    "    estimation_agent,\n",
    "    resource_allocation_agent\n",
    "  ],\n",
    "  tasks=[\n",
    "    task_breakdown,\n",
    "    time_resource_estimation,\n",
    "    resource_allocation\n",
    "  ],\n",
    "  verbose=True\n",
    ")"
   ]
  },
  {
   "cell_type": "markdown",
   "id": "51b901cf-3630-4662-81a7-762da6773d3b",
   "metadata": {},
   "source": [
    "## Crew's Inputs"
   ]
  },
  {
   "cell_type": "code",
   "execution_count": 9,
   "id": "9e861574-0f9b-4f2c-b2d1-a230fc3a53a3",
   "metadata": {
    "height": 708
   },
   "outputs": [
    {
     "data": {
      "text/markdown": [
       "\n",
       "**Project Type:** Website\n",
       "\n",
       "**Project Objectives:** Create a website for a small business\n",
       "\n",
       "**Industry:** Technology\n",
       "\n",
       "**Team Members:**\n",
       "\n",
       "- John Doe (Project Manager)\n",
       "- Jane Doe (Software Engineer)\n",
       "- Bob Smith (Designer)\n",
       "- Alice Johnson (QA Engineer)\n",
       "- Tom Brown (QA Engineer)\n",
       "\n",
       "**Project Requirements:**\n",
       "\n",
       "- Create a responsive design that works well on desktop and mobile devices\n",
       "- Implement a modern, visually appealing user interface with a clean look\n",
       "- Develop a user-friendly navigation system with intuitive menu structure\n",
       "- Include an \"About Us\" page highlighting the company's history and values\n",
       "- Design a \"Services\" page showcasing the business's offerings with descriptions\n",
       "- Create a \"Contact Us\" page with a form and integrated map for communication\n",
       "- Implement a blog section for sharing industry news and company updates\n",
       "- Ensure fast loading times and optimize for search engines (SEO)\n",
       "- Integrate social media links and sharing capabilities\n",
       "- Include a testimonials section to showcase customer feedback and build trust\n",
       "\n"
      ],
      "text/plain": [
       "<IPython.core.display.Markdown object>"
      ]
     },
     "metadata": {},
     "output_type": "display_data"
    }
   ],
   "source": [
    "from IPython.display import display, Markdown\n",
    "\n",
    "project = 'Website'\n",
    "industry = 'Technology'\n",
    "project_objectives = 'Create a website for a small business'\n",
    "team_members = \"\"\"\n",
    "- John Doe (Project Manager)\n",
    "- Jane Doe (Software Engineer)\n",
    "- Bob Smith (Designer)\n",
    "- Alice Johnson (QA Engineer)\n",
    "- Tom Brown (QA Engineer)\n",
    "\"\"\"\n",
    "project_requirements = \"\"\"\n",
    "- Create a responsive design that works well on desktop and mobile devices\n",
    "- Implement a modern, visually appealing user interface with a clean look\n",
    "- Develop a user-friendly navigation system with intuitive menu structure\n",
    "- Include an \"About Us\" page highlighting the company's history and values\n",
    "- Design a \"Services\" page showcasing the business's offerings with descriptions\n",
    "- Create a \"Contact Us\" page with a form and integrated map for communication\n",
    "- Implement a blog section for sharing industry news and company updates\n",
    "- Ensure fast loading times and optimize for search engines (SEO)\n",
    "- Integrate social media links and sharing capabilities\n",
    "- Include a testimonials section to showcase customer feedback and build trust\n",
    "\"\"\"\n",
    "\n",
    "# Format the dictionary as Markdown for a better display in Jupyter Lab\n",
    "formatted_output = f\"\"\"\n",
    "**Project Type:** {project}\n",
    "\n",
    "**Project Objectives:** {project_objectives}\n",
    "\n",
    "**Industry:** {industry}\n",
    "\n",
    "**Team Members:**\n",
    "{team_members}\n",
    "**Project Requirements:**\n",
    "{project_requirements}\n",
    "\"\"\"\n",
    "# Display the formatted output as Markdown\n",
    "display(Markdown(formatted_output))"
   ]
  },
  {
   "cell_type": "markdown",
   "id": "15198e13-e9ec-44d8-b15e-c97b7b7320bb",
   "metadata": {},
   "source": [
    "## Kicking off the crew"
   ]
  },
  {
   "cell_type": "code",
   "execution_count": null,
   "id": "fa40b53e-0a49-4198-a263-c79a6a3af603",
   "metadata": {
    "height": 233
   },
   "outputs": [
    {
     "name": "stdout",
     "output_type": "stream",
     "text": [
      "\u001b[1m\u001b[95m# Agent:\u001b[00m \u001b[1m\u001b[92mThe Ultimate Project Planner\u001b[00m\n",
      "\u001b[95m## Task:\u001b[00m \u001b[92mCarefully analyze the project_requirements for the Website project and break them down into individual tasks. Define each task's scope in detail, set achievable timelines, and ensure that all dependencies are accounted for:\n",
      "\n",
      "- Create a responsive design that works well on desktop and mobile devices\n",
      "- Implement a modern, visually appealing user interface with a clean look\n",
      "- Develop a user-friendly navigation system with intuitive menu structure\n",
      "- Include an \"About Us\" page highlighting the company's history and values\n",
      "- Design a \"Services\" page showcasing the business's offerings with descriptions\n",
      "- Create a \"Contact Us\" page with a form and integrated map for communication\n",
      "- Implement a blog section for sharing industry news and company updates\n",
      "- Ensure fast loading times and optimize for search engines (SEO)\n",
      "- Integrate social media links and sharing capabilities\n",
      "- Include a testimonials section to showcase customer feedback and build trust\n",
      "\n",
      "\n",
      "Team members:\n",
      "\n",
      "- John Doe (Project Manager)\n",
      "- Jane Doe (Software Engineer)\n",
      "- Bob Smith (Designer)\n",
      "- Alice Johnson (QA Engineer)\n",
      "- Tom Brown (QA Engineer)\n",
      "\n",
      "\u001b[00m\n",
      "\n",
      "\n",
      "\u001b[1m\u001b[95m# Agent:\u001b[00m \u001b[1m\u001b[92mThe Ultimate Project Planner\u001b[00m\n",
      "\u001b[95m## Final Answer:\u001b[00m \u001b[92m\n",
      "**Website Project Tasks Breakdown**\n",
      "\n",
      "1. **Task 1: Responsive Design Development**\n",
      "\t* Scope: Create a responsive design for desktop and mobile devices\n",
      "\t* Timeline: Week 2-3 (10 days)\n",
      "\t* Dependencies: None\n",
      "\t* Deliverables:\n",
      "\t\t+ 1 wireframe prototype\n",
      "\t\t+ 1 visual design concept\n",
      "\t\t+ 1 functional design specification\n",
      "\t* Assignee: Bob Smith (Designer)\n",
      "\n",
      "2. **Task 2: User Interface Design**\n",
      "\t* Scope: Develop a modern, visually appealing user interface with a clean look\n",
      "\t* Timeline: Week 4-5 (10 days)\n",
      "\t* Dependencies: Task 1\n",
      "\t* Deliverables:\n",
      "\t\t+ 1 design concept for the UI\n",
      "\t\t+ 1 functional design specification\n",
      "\t* Assignee: Bob Smith (Designer)\n",
      "\n",
      "3. **Task 3: Navigation System Development**\n",
      "\t* Scope: Develop a user-friendly navigation system with an intuitive menu structure\n",
      "\t* Timeline: Week 6-7 (10 days)\n",
      "\t* Dependencies: Task 2\n",
      "\t* Deliverables:\n",
      "\t\t+ 1 functional navigation system prototype\n",
      "\t\t+ 1 design specification for the navigation system\n",
      "\t* Assignee: John Doe (Project Manager)\n",
      "\n",
      "4. **Task 4: \"About Us\" Page Development**\n",
      "\t* Scope: Design and develop an \"About Us\" page highlighting the company's history and values\n",
      "\t* Timeline: Week 8-9 (10 days)\n",
      "\t* Dependencies: Task 3\n",
      "\t* Deliverables:\n",
      "\t\t+ 1 functional \"About Us\" page prototype\n",
      "\t\t+ 1 design specification for the \"About Us\" page\n",
      "\t* Assignee: Jane Doe (Software Engineer)\n",
      "\n",
      "5. **Task 5: \"Services\" Page Development**\n",
      "\t* Scope: Design and develop a \"Services\" page showcasing the business's offerings with descriptions\n",
      "\t* Timeline: Week 10-11 (10 days)\n",
      "\t* Dependencies: Task 3, Task 4\n",
      "\t* Deliverables:\n",
      "\t\t+ 1 functional \"Services\" page prototype\n",
      "\t\t+ 1 design specification for the \"Services\" page\n",
      "\t* Assignee: Jane Doe (Software Engineer)\n",
      "\n",
      "6. **Task 6: \"Contact Us\" Page Development**\n",
      "\t* Scope: Design and develop a \"Contact Us\" page with a form and integrated map for communication\n",
      "\t* Timeline: Week 12-13 (10 days)\n",
      "\t* Dependencies: Task 3, Task 4, Task 5\n",
      "\t* Deliverables:\n",
      "\t\t+ 1 functional \"Contact Us\" page prototype\n",
      "\t\t+ 1 design specification for the \"Contact Us\" page\n",
      "\t* Assignee: John Doe (Project Manager)\n",
      "\n",
      "7. **Task 7: Blog Section Development**\n",
      "\t* Scope: Design and develop a blog section for sharing industry news and company updates\n",
      "\t* Timeline: Week 14-15 (10 days)\n",
      "\t* Dependencies: Task 3, Task 4, Task 5, Task 6\n",
      "\t* Deliverables:\n",
      "\t\t+ 1 functional blog prototype\n",
      "\t\t+ 1 design specification for the blog section\n",
      "\t* Assignee: Jane Doe (Software Engineer)\n",
      "\n",
      "8. **Task 8: SEO Optimization**\n",
      "\t* Scope: Ensure fast loading times and optimize for search engines (SEO)\n",
      "\t* Timeline: Week 16-17 (10 days)\n",
      "\t* Dependencies: Task 7\n",
      "\t* Deliverables:\n",
      "\t\t+ 1 optimized website structure\n",
      "\t\t+ 1 set of SEO-friendly meta tags\n",
      "\t* Assignee: Alice Johnson (QA Engineer)\n",
      "\n",
      "9. **Task 9: Social Media Integration**\n",
      "\t* Scope: Integrate social media links and sharing capabilities\n",
      "\t* Timeline: Week 18-19 (10 days)\n",
      "\t* Dependencies: Task 8\n",
      "\t* Deliverables:\n",
      "\t\t+ 1 functional social media integration prototype\n",
      "\t\t+ 1 design specification for the social media integration\n",
      "\t* Assignee: John Doe (Project Manager)\n",
      "\n",
      "10. **Task 10: Testimonials Section Development**\n",
      "\t* Scope: Design and develop a testimonials section to showcase customer feedback and build trust\n",
      "\t* Timeline: Week 20-21 (10 days)\n",
      "\t* Dependencies: Task 8, Task 9\n",
      "\t* Deliverables:\n",
      "\t\t+ 1 functional testimonials prototype\n",
      "\t\t+ 1 design specification for the testimonials section\n",
      "\t* Assignee: Alice Johnson (QA Engineer)\n",
      "\n",
      "11. **Task 11: Gantt Chart and Project Schedule**\n",
      "\t* Scope: Create a comprehensive project schedule with dependencies and timelines\n",
      "\t* Timeline: Week 22-23 (10 days)\n",
      "\t* Dependencies: All previous tasks\n",
      "\t* Deliverables:\n",
      "\t\t+ 1 Gantt chart visualizing the project timeline\n",
      "\t\t+ 1 project schedule document outlining all task details\n",
      "\t* Assignee: John Doe (Project Manager)\n",
      "\n",
      "Gantt Chart:\n",
      "\n",
      "```\n",
      "  +---------------+\n",
      "  | Week 2-3     |\n",
      "  | Responsive   |\n",
      "  | Design      |\n",
      "  +---------------+\n",
      "  | Week 4-5     |\n",
      "  | User Interface|\n",
      "  | Design       |\n",
      "  +---------------+\n",
      "  | Week 6-7     |\n",
      "  | Navigation    |\n",
      "  | System        |\n",
      "  +---------------+\n",
      "  | Week 8-9     |\n",
      "  | About Us Page|\n",
      "  | Development   |\n",
      "  +---------------+\n",
      "  | Week 10-11   |\n",
      "  | Services Page |\n",
      "  | Development   |\n",
      "  +---------------+\n",
      "  | Week 12-13   |\n",
      "  | Contact Us    |\n",
      "  | Page          |\n",
      "  +---------------+\n",
      "  | Week 14-15   |\n",
      "  | Blog Section  |\n",
      "  | Development   |\n",
      "  +---------------+\n",
      "  | Week 16-17   |\n",
      "  | SEO Optimization|\n",
      "  +---------------+\n",
      "  | Week 18-19   |\n",
      "  | Social Media  |\n",
      "  | Integration    |\n",
      "  +---------------+\n",
      "  | Week 20-21   |\n",
      "  | Testimonials  |\n",
      "  | Section        |\n",
      "  +---------------+\n",
      "  | Week 22-23   |\n",
      "  | Gantt Chart   |\n",
      "  | Project Schedule|\n",
      "  +---------------+\n",
      "```\n",
      "\n",
      "**Conclusion:**\n",
      "\n",
      "The Website project has been broken down into individual tasks, each with a clear scope, timeline, and dependencies. The team members have been assigned to specific tasks, ensuring that the project stays on track and meets all requirements. The Gantt chart provides a visual representation of the project timeline, allowing for easy tracking and adjustments as needed. With careful planning and execution, this Website project is sure to be completed successfully.\u001b[00m\n",
      "\n",
      "\n",
      "\u001b[1m\u001b[95m# Agent:\u001b[00m \u001b[1m\u001b[92mExpert Estimation Analyst\u001b[00m\n",
      "\u001b[95m## Task:\u001b[00m \u001b[92mThoroughly evaluate each task in the Website project to estimate the time, resources, and effort required. Use historical data, task complexity, and available resources to provide a realistic estimation for each task.\n",
      "\u001b[00m\n",
      "\n",
      "\n",
      "\u001b[1m\u001b[95m# Agent:\u001b[00m \u001b[1m\u001b[92mExpert Estimation Analyst\u001b[00m\n",
      "\u001b[95m## Final Answer:\u001b[00m \u001b[92m\n",
      "The estimated total time requirements for the Website project is 16 weeks. The estimated resource requirements for each task vary depending on the complexity of the tasks, but generally range from 2-4 developers or designers per task.\u001b[00m\n",
      "\n",
      "\n",
      "\u001b[1m\u001b[95m# Agent:\u001b[00m \u001b[1m\u001b[92mResource Allocation Strategist\u001b[00m\n",
      "\u001b[95m## Task:\u001b[00m \u001b[92mStrategically allocate tasks for the Website project to team members based on their skills, availability, and current workload. Ensure that each task is assigned to the most suitable team member and that the workload is evenly distributed.\n",
      "\n",
      "Team members:\n",
      "\n",
      "- John Doe (Project Manager)\n",
      "- Jane Doe (Software Engineer)\n",
      "- Bob Smith (Designer)\n",
      "- Alice Johnson (QA Engineer)\n",
      "- Tom Brown (QA Engineer)\n",
      "\n",
      "\u001b[00m\n",
      "\n",
      "\n",
      "\u001b[1m\u001b[95m# Agent:\u001b[00m \u001b[1m\u001b[92mResource Allocation Strategist\u001b[00m\n",
      "\u001b[95m## Final Answer:\u001b[00m \u001b[92m\n",
      "Resource Allocation Chart for Website Project\n",
      "\n",
      "| Task ID | Task Name | Assigned Team Member | Start Date | End Date |\n",
      "| --- | --- | --- | --- | --- |\n",
      "| 1 | Front-end Development | Jane Doe (Software Engineer) | Week 1-4 | Week 4 |\n",
      "| 2 | Back-end Development | John Doe (Project Manager) | Week 1-6 | Week 6 |\n",
      "| 3 | Design and User Interface | Bob Smith (Designer) | Week 5-8 | Week 8 |\n",
      "| 4 | Quality Assurance | Alice Johnson (QA Engineer) | Week 2-6 | Week 6 |\n",
      "| 5 | Quality Assurance | Tom Brown (QA Engineer) | Week 7-10 | Week 10 |\n",
      "\n",
      "Summary:\n",
      "\n",
      "1. Front-end Development Task: Jane Doe was assigned to this task due to her expertise in software engineering and the estimated resource requirements, which range from 2-4 developers.\n",
      "2. Back-end Development Task: Although John is a project manager, he has experience with back-end development tasks, so he was assigned to this task for optimal allocation of resources. His availability and workload balance made him suitable for this task.\n",
      "3. Design and User Interface Task: Bob Smith's expertise in design makes him an ideal candidate for this task, which requires 2-4 designers. The start date is set at Week 5 to avoid overloading John Doe with additional tasks.\n",
      "4. Quality Assurance Tasks: Alice Johnson was assigned the first quality assurance task (Task 4), and Tom Brown took on Task 5 starting from Week 7. This ensures that both QA engineers are utilized efficiently without creating an uneven workload.\n",
      "5. Task Overlapping: Tasks 1 and 2 overlap in Weeks 3-6, where Jane Doe works on front-end development while John handles back-end development. Similarly, tasks 3 and 4 overlap during Weeks 9-12.\n",
      "\n",
      "By allocating tasks based on team members' skills, availability, and current workload, we aim to maximize efficiency and project success for the Website project.\u001b[00m\n",
      "\n",
      "\n"
     ]
    }
   ],
   "source": [
    "# The given Python dictionary\n",
    "inputs = {\n",
    "  'project_type': project,\n",
    "  'project_objectives': project_objectives,\n",
    "  'industry': industry,\n",
    "  'team_members': team_members,\n",
    "  'project_requirements': project_requirements\n",
    "}\n",
    "\n",
    "# Run the crew\n",
    "result = crew.kickoff(\n",
    "  inputs=inputs\n",
    ")"
   ]
  },
  {
   "cell_type": "markdown",
   "id": "7879258f-52df-4503-b08e-acd516d0a946",
   "metadata": {},
   "source": [
    "## Usage Metrics and Costs"
   ]
  },
  {
   "cell_type": "markdown",
   "id": "d94dad33-91c9-4aac-8e16-24117dbbef46",
   "metadata": {},
   "source": [
    "Let’s see how much it would cost each time if this crew runs at scale."
   ]
  },
  {
   "cell_type": "code",
   "execution_count": null,
   "id": "66b3b165-2a4b-46cc-93f7-696dffff1e10",
   "metadata": {
    "height": 164
   },
   "outputs": [],
   "source": [
    "import pandas as pd\n",
    "\n",
    "costs = 0.150 * (crew.usage_metrics.prompt_tokens + crew.usage_metrics.completion_tokens) / 1_000_000\n",
    "print(f\"Total costs: ${costs:.4f}\")\n",
    "\n",
    "# Convert UsageMetrics instance to a DataFrame\n",
    "df_usage_metrics = pd.DataFrame([crew.usage_metrics.dict()])\n",
    "df_usage_metrics"
   ]
  },
  {
   "cell_type": "markdown",
   "id": "4982e83a-9e54-4510-9f06-751b34848287",
   "metadata": {},
   "source": [
    "## Result"
   ]
  },
  {
   "cell_type": "code",
   "execution_count": null,
   "id": "6396b0f6-e3ae-4a89-a3e9-ca53aa042c40",
   "metadata": {
    "height": 29
   },
   "outputs": [],
   "source": [
    "result.pydantic.dict()"
   ]
  },
  {
   "cell_type": "markdown",
   "id": "18ffcc83-350e-4f99-b03b-458690cc0ed2",
   "metadata": {},
   "source": [
    "## Inspect further"
   ]
  },
  {
   "cell_type": "code",
   "execution_count": null,
   "id": "da1bbf90-4bfc-4529-84dd-d0bd00198353",
   "metadata": {
    "height": 147
   },
   "outputs": [],
   "source": [
    "tasks = result.pydantic.dict()['tasks']\n",
    "df_tasks = pd.DataFrame(tasks)\n",
    "\n",
    "# Display the DataFrame as an HTML table\n",
    "df_tasks.style.set_table_attributes('border=\"1\"').set_caption(\"Task Details\").set_table_styles(\n",
    "    [{'selector': 'th, td', 'props': [('font-size', '120%')]}]\n",
    ")"
   ]
  },
  {
   "cell_type": "markdown",
   "id": "1210cae8-e028-4f7e-90ed-950ef86d41e5",
   "metadata": {},
   "source": [
    "### Inspecting Milestones"
   ]
  },
  {
   "cell_type": "code",
   "execution_count": null,
   "id": "91c2f18c-2d5b-41a9-837b-265e7aa245d0",
   "metadata": {
    "height": 147
   },
   "outputs": [],
   "source": [
    "milestones = result.pydantic.dict()['milestones']\n",
    "df_milestones = pd.DataFrame(milestones)\n",
    "\n",
    "# Display the DataFrame as an HTML table\n",
    "df_milestones.style.set_table_attributes('border=\"1\"').set_caption(\"Task Details\").set_table_styles(\n",
    "    [{'selector': 'th, td', 'props': [('font-size', '120%')]}]\n",
    ")"
   ]
  },
  {
   "cell_type": "code",
   "execution_count": null,
   "id": "a593fd80-36ef-48a1-a7c7-e45c37815f67",
   "metadata": {
    "height": 29
   },
   "outputs": [],
   "source": []
  },
  {
   "cell_type": "code",
   "execution_count": null,
   "id": "2e2c2526-de6d-4006-bd25-8c51e1f3d5f7",
   "metadata": {
    "height": 29
   },
   "outputs": [],
   "source": []
  },
  {
   "cell_type": "code",
   "execution_count": null,
   "id": "1ac3e1e0-e14f-446e-a912-18794337925c",
   "metadata": {
    "height": 29
   },
   "outputs": [],
   "source": []
  },
  {
   "cell_type": "code",
   "execution_count": null,
   "id": "c34b5062-29e2-4fbb-b771-02f5f547e47c",
   "metadata": {
    "height": 29
   },
   "outputs": [],
   "source": []
  },
  {
   "cell_type": "code",
   "execution_count": null,
   "id": "70303180-389e-4e90-8444-aba384ec8751",
   "metadata": {
    "height": 29
   },
   "outputs": [],
   "source": []
  },
  {
   "cell_type": "code",
   "execution_count": null,
   "id": "109926d3-50e5-43e7-87f8-a1d38e45d79d",
   "metadata": {
    "height": 29
   },
   "outputs": [],
   "source": []
  }
 ],
 "metadata": {
  "kernelspec": {
   "display_name": ".venv",
   "language": "python",
   "name": "python3"
  },
  "language_info": {
   "codemirror_mode": {
    "name": "ipython",
    "version": 3
   },
   "file_extension": ".py",
   "mimetype": "text/x-python",
   "name": "python",
   "nbconvert_exporter": "python",
   "pygments_lexer": "ipython3",
   "version": "3.10.12"
  }
 },
 "nbformat": 4,
 "nbformat_minor": 5
}
